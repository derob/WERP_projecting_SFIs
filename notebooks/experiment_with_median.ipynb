{
 "cells": [
  {
   "cell_type": "code",
   "execution_count": 51,
   "metadata": {},
   "outputs": [],
   "source": [
    "from matplotlib import pyplot as plt\n",
    "import numpy as np\n",
    "import pandas as pd\n"
   ]
  },
  {
   "cell_type": "code",
   "execution_count": 60,
   "metadata": {},
   "outputs": [
    {
     "name": "stdout",
     "output_type": "stream",
     "text": [
      "[[ 0.  1.  2.  3.  4.  5.  6.  7.  8.  9. 10. 11. 12. 13. 14. 15. 16. 17.\n",
      "  18. 19. 20. 21. 22. 23. 24. 25. 26. 27. 28. 29. 30. 31. 32. 33. 34. 35.\n",
      "  36. 37. 38. 39.]]\n",
      "[[1.         0.99004983 0.98019867 ... 0.69073433 0.68386141 0.67705687]\n",
      " [0.99004983 1.         0.99004983 ... 0.69767633 0.69073433 0.68386141]\n",
      " [0.98019867 0.99004983 1.         ... 0.70468809 0.69767633 0.69073433]\n",
      " ...\n",
      " [0.69073433 0.69767633 0.70468809 ... 1.         0.99004983 0.98019867]\n",
      " [0.68386141 0.69073433 0.69767633 ... 0.99004983 1.         0.99004983]\n",
      " [0.67705687 0.68386141 0.69073433 ... 0.98019867 0.99004983 1.        ]]\n"
     ]
    }
   ],
   "source": [
    "indexs = np.array([float(i) for i in range(0,40)], ndmin = 2)\n",
    "print(indexs)\n",
    "distmat =  indexs.transpose() * indexs\n",
    "for i in range(indexs.shape[1]):\n",
    "   # print(i)\n",
    "    aa = np.exp(-(np.abs(indexs[0,:]-indexs[0,i]))/100)\n",
    "   # print (aa)\n",
    "    distmat[i,:] = aa\n",
    "print(distmat)\n",
    "\n",
    "change_means  = np.array([float(1) for i in range(0,40)], ndmin = 1)\n",
    "#cov_change = "
   ]
  },
  {
   "cell_type": "code",
   "execution_count": 66,
   "metadata": {},
   "outputs": [],
   "source": [
    "means = np.random.normal(loc = 100, scale =30, size = (10,1))\n",
    "means\n",
    "\n",
    "changes =  np.random.multivariate_normal(mean = change_means, cov= 0.2*distmat, size = (10)) #np.random.normal(loc = 1, scale= 0.2, size = (10, 40))\n",
    "\n",
    "outputs = changes * means"
   ]
  },
  {
   "cell_type": "code",
   "execution_count": 67,
   "metadata": {},
   "outputs": [
    {
     "data": {
      "text/plain": [
       "(10, 40)"
      ]
     },
     "execution_count": 67,
     "metadata": {},
     "output_type": "execute_result"
    }
   ],
   "source": [
    "changes.shape"
   ]
  },
  {
   "cell_type": "code",
   "execution_count": 68,
   "metadata": {},
   "outputs": [
    {
     "data": {
      "text/plain": [
       "1.3428094694735722"
      ]
     },
     "execution_count": 68,
     "metadata": {},
     "output_type": "execute_result"
    }
   ],
   "source": [
    "np.median(outputs.mean(axis = 0) /  means.mean())"
   ]
  },
  {
   "cell_type": "code",
   "execution_count": 69,
   "metadata": {},
   "outputs": [
    {
     "data": {
      "text/plain": [
       "1.3428094694735722"
      ]
     },
     "execution_count": 69,
     "metadata": {},
     "output_type": "execute_result"
    }
   ],
   "source": [
    "np.median(outputs.sum(axis = 0) /  means.sum())"
   ]
  },
  {
   "cell_type": "code",
   "execution_count": 70,
   "metadata": {},
   "outputs": [
    {
     "data": {
      "text/plain": [
       "1.4085162050836944"
      ]
     },
     "execution_count": 70,
     "metadata": {},
     "output_type": "execute_result"
    }
   ],
   "source": [
    "np.median((outputs/means).mean(axis = 0))"
   ]
  },
  {
   "cell_type": "code",
   "execution_count": 71,
   "metadata": {},
   "outputs": [
    {
     "data": {
      "text/plain": [
       "array([1.37055619, 1.40851621, 1.42240282])"
      ]
     },
     "execution_count": 71,
     "metadata": {},
     "output_type": "execute_result"
    }
   ],
   "source": [
    "np.quantile((outputs/means).mean(axis=0),q = (0.1,0.5,0.9))"
   ]
  },
  {
   "cell_type": "code",
   "execution_count": 72,
   "metadata": {},
   "outputs": [
    {
     "data": {
      "text/plain": [
       "array([1.30427132, 1.34280947, 1.37753346])"
      ]
     },
     "execution_count": 72,
     "metadata": {},
     "output_type": "execute_result"
    }
   ],
   "source": [
    "np.quantile(outputs.mean(axis = 0) /  means.mean(),q = (0.1,0.5,0.9))"
   ]
  }
 ],
 "metadata": {
  "kernelspec": {
   "display_name": ".venv",
   "language": "python",
   "name": "python3"
  },
  "language_info": {
   "codemirror_mode": {
    "name": "ipython",
    "version": 3
   },
   "file_extension": ".py",
   "mimetype": "text/x-python",
   "name": "python",
   "nbconvert_exporter": "python",
   "pygments_lexer": "ipython3",
   "version": "3.10.8"
  }
 },
 "nbformat": 4,
 "nbformat_minor": 2
}
